{
  "nbformat": 4,
  "nbformat_minor": 0,
  "metadata": {
    "colab": {
      "provenance": [],
      "authorship_tag": "ABX9TyPPYBh3zoUxBfIsuA+/1GEH"
    },
    "kernelspec": {
      "name": "python3",
      "display_name": "Python 3"
    },
    "language_info": {
      "name": "python"
    }
  },
  "cells": [
    {
      "cell_type": "markdown",
      "source": [
        "파이썬 화이팅"
      ],
      "metadata": {
        "id": "UTAM8_qzXwye"
      }
    },
    {
      "cell_type": "code",
      "execution_count": null,
      "metadata": {
        "id": "9oP1U7csqm1M",
        "colab": {
          "base_uri": "https://localhost:8080/"
        },
        "outputId": "dd249126-3d24-4aa9-94cc-ad635063d30b"
      },
      "outputs": [
        {
          "output_type": "stream",
          "name": "stdout",
          "text": [
            "hello, world\n"
          ]
        }
      ],
      "source": [
        "print(\"hello, world\") "
      ]
    },
    {
      "cell_type": "code",
      "source": [
        "a=1\n",
        "b=2\n",
        "print(a*b)\n"
      ],
      "metadata": {
        "colab": {
          "base_uri": "https://localhost:8080/"
        },
        "id": "cHZfGcBmaGHk",
        "outputId": "f7444d31-5bc9-45d6-bb81-12998275a9dc"
      },
      "execution_count": null,
      "outputs": [
        {
          "output_type": "stream",
          "name": "stdout",
          "text": [
            "2\n"
          ]
        }
      ]
    },
    {
      "cell_type": "code",
      "source": [
        "drink='와인'\n",
        "food='회'\n",
        "print(\"나는 \"+drink+\"에 \"+food+\" 먹는 것을 좋아해요.\")"
      ],
      "metadata": {
        "colab": {
          "base_uri": "https://localhost:8080/"
        },
        "id": "1uCiS2KKasZ6",
        "outputId": "100c6004-b299-40a2-a1b7-295a7dfe291d"
      },
      "execution_count": null,
      "outputs": [
        {
          "output_type": "stream",
          "name": "stdout",
          "text": [
            "나는 와인에 회 먹는 것을 좋아해요.\n"
          ]
        }
      ]
    },
    {
      "cell_type": "code",
      "source": [
        "print(\"나는 {}에 {} 먹는 것을 좋아해요.\".format(drink, food))"
      ],
      "metadata": {
        "colab": {
          "base_uri": "https://localhost:8080/"
        },
        "id": "nf9IZIH3dLcZ",
        "outputId": "52717d93-a2dd-4e5c-c6b2-2805ffa23627"
      },
      "execution_count": null,
      "outputs": [
        {
          "output_type": "stream",
          "name": "stdout",
          "text": [
            "나는 와인에 회 먹는 것을 좋아해요.\n"
          ]
        }
      ]
    },
    {
      "cell_type": "code",
      "source": [
        "print(\"나는 {0}에 {1} 먹는 것을 좋아해요.\".format(drink, food))"
      ],
      "metadata": {
        "colab": {
          "base_uri": "https://localhost:8080/"
        },
        "id": "hNagDvedfDbM",
        "outputId": "27f12d0d-ba98-43c8-e2f4-8060cd490d82"
      },
      "execution_count": null,
      "outputs": [
        {
          "output_type": "stream",
          "name": "stdout",
          "text": [
            "나는 와인에 회 먹는 것을 좋아해요.\n"
          ]
        }
      ]
    },
    {
      "cell_type": "code",
      "source": [
        "print(\"나는 {1}에 {0} 먹는 것을 좋아해요.\".format(drink, food))"
      ],
      "metadata": {
        "colab": {
          "base_uri": "https://localhost:8080/"
        },
        "id": "VtkYZ3FyfHrI",
        "outputId": "5270c27b-ae03-4dae-fb55-ae3f09d49ed6"
      },
      "execution_count": null,
      "outputs": [
        {
          "output_type": "stream",
          "name": "stdout",
          "text": [
            "나는 회에 와인 먹는 것을 좋아해요.\n"
          ]
        }
      ]
    },
    {
      "cell_type": "code",
      "source": [
        "type(10)"
      ],
      "metadata": {
        "colab": {
          "base_uri": "https://localhost:8080/"
        },
        "id": "0OFlcbKff8Lt",
        "outputId": "9de82c14-911a-411f-bfcd-0bb95ce9439a"
      },
      "execution_count": null,
      "outputs": [
        {
          "output_type": "execute_result",
          "data": {
            "text/plain": [
              "int"
            ]
          },
          "metadata": {},
          "execution_count": 22
        }
      ]
    },
    {
      "cell_type": "code",
      "source": [
        "type(\"school\")"
      ],
      "metadata": {
        "colab": {
          "base_uri": "https://localhost:8080/"
        },
        "id": "vW35P7pmgARl",
        "outputId": "49e2d55a-170c-47a1-877c-fd9ccd281b2f"
      },
      "execution_count": null,
      "outputs": [
        {
          "output_type": "execute_result",
          "data": {
            "text/plain": [
              "str"
            ]
          },
          "metadata": {},
          "execution_count": 27
        }
      ]
    },
    {
      "cell_type": "code",
      "source": [
        "type(1+2j)"
      ],
      "metadata": {
        "colab": {
          "base_uri": "https://localhost:8080/"
        },
        "id": "ZfWbIPQXgPpc",
        "outputId": "dd783175-b2de-447c-8182-f57859f069dc"
      },
      "execution_count": null,
      "outputs": [
        {
          "output_type": "execute_result",
          "data": {
            "text/plain": [
              "complex"
            ]
          },
          "metadata": {},
          "execution_count": 29
        }
      ]
    },
    {
      "cell_type": "code",
      "source": [
        "type(['a','b','c','d'])"
      ],
      "metadata": {
        "colab": {
          "base_uri": "https://localhost:8080/"
        },
        "id": "ymLNPKYUgm9i",
        "outputId": "a7d25b01-22b1-4fae-bc7f-abae641485df"
      },
      "execution_count": null,
      "outputs": [
        {
          "output_type": "execute_result",
          "data": {
            "text/plain": [
              "list"
            ]
          },
          "metadata": {},
          "execution_count": 31
        }
      ]
    },
    {
      "cell_type": "code",
      "source": [
        "type(('a','b','c','d'))"
      ],
      "metadata": {
        "colab": {
          "base_uri": "https://localhost:8080/"
        },
        "id": "fkBoQvoMgwwv",
        "outputId": "3ab3b21b-e03a-496e-a64a-fdcdb8a7705b"
      },
      "execution_count": null,
      "outputs": [
        {
          "output_type": "execute_result",
          "data": {
            "text/plain": [
              "tuple"
            ]
          },
          "metadata": {},
          "execution_count": 33
        }
      ]
    },
    {
      "cell_type": "code",
      "source": [
        "long_str = \"\"\"Life is short,\n",
        "you need \"python\".\"\"\"\n",
        "print(long_str)"
      ],
      "metadata": {
        "colab": {
          "base_uri": "https://localhost:8080/"
        },
        "id": "hhKHQMmhi_63",
        "outputId": "64eea68f-6bfa-494e-9405-ef4fce23d802"
      },
      "execution_count": null,
      "outputs": [
        {
          "output_type": "stream",
          "name": "stdout",
          "text": [
            "Life is short,\n",
            "you need \"python\".\n"
          ]
        }
      ]
    },
    {
      "cell_type": "code",
      "source": [
        "a=1\n",
        "b=2"
      ],
      "metadata": {
        "id": "hJwh0ARTje7P"
      },
      "execution_count": null,
      "outputs": []
    },
    {
      "cell_type": "code",
      "source": [
        "print(a<b)"
      ],
      "metadata": {
        "colab": {
          "base_uri": "https://localhost:8080/"
        },
        "id": "9udYr14xjg8t",
        "outputId": "4a7006d4-f7fc-4dfb-ba77-99f5503f6190"
      },
      "execution_count": null,
      "outputs": [
        {
          "output_type": "stream",
          "name": "stdout",
          "text": [
            "True\n"
          ]
        }
      ]
    },
    {
      "cell_type": "code",
      "source": [
        "t, f=True,False\n",
        "print(type(t,f)) # 이거는 왜 오류가 날까?"
      ],
      "metadata": {
        "colab": {
          "base_uri": "https://localhost:8080/",
          "height": 193
        },
        "id": "s4SY_jFPjux-",
        "outputId": "cdb0fb85-f711-4ecc-84f3-1d1201c3430e"
      },
      "execution_count": null,
      "outputs": [
        {
          "output_type": "error",
          "ename": "TypeError",
          "evalue": "ignored",
          "traceback": [
            "\u001b[0;31m---------------------------------------------------------------------------\u001b[0m",
            "\u001b[0;31mTypeError\u001b[0m                                 Traceback (most recent call last)",
            "\u001b[0;32m<ipython-input-53-04f748ac9f5d>\u001b[0m in \u001b[0;36m<module>\u001b[0;34m\u001b[0m\n\u001b[1;32m      1\u001b[0m \u001b[0mt\u001b[0m\u001b[0;34m,\u001b[0m \u001b[0mf\u001b[0m\u001b[0;34m=\u001b[0m\u001b[0;32mTrue\u001b[0m\u001b[0;34m,\u001b[0m\u001b[0;32mFalse\u001b[0m\u001b[0;34m\u001b[0m\u001b[0;34m\u001b[0m\u001b[0m\n\u001b[0;32m----> 2\u001b[0;31m \u001b[0mprint\u001b[0m\u001b[0;34m(\u001b[0m\u001b[0mtype\u001b[0m\u001b[0;34m(\u001b[0m\u001b[0mt\u001b[0m\u001b[0;34m,\u001b[0m\u001b[0mf\u001b[0m\u001b[0;34m)\u001b[0m\u001b[0;34m)\u001b[0m \u001b[0;31m# 이거는 왜 오류가 날까?\u001b[0m\u001b[0;34m\u001b[0m\u001b[0;34m\u001b[0m\u001b[0m\n\u001b[0m",
            "\u001b[0;31mTypeError\u001b[0m: type() takes 1 or 3 arguments"
          ]
        }
      ]
    },
    {
      "cell_type": "markdown",
      "source": [
        "# *List(리스트)*"
      ],
      "metadata": {
        "id": "BJiCBGzLnAWZ"
      }
    },
    {
      "cell_type": "code",
      "source": [
        "a=[1,2,3,4]\n",
        "type(a)"
      ],
      "metadata": {
        "colab": {
          "base_uri": "https://localhost:8080/"
        },
        "id": "NlCZUvgTnZiJ",
        "outputId": "83960852-cd0d-49a0-f473-c2d636c2013d"
      },
      "execution_count": null,
      "outputs": [
        {
          "output_type": "execute_result",
          "data": {
            "text/plain": [
              "list"
            ]
          },
          "metadata": {},
          "execution_count": 55
        }
      ]
    },
    {
      "cell_type": "code",
      "source": [
        "v=['화이자', '모더나', 'AZ', '얀센']\n",
        "type(v)"
      ],
      "metadata": {
        "colab": {
          "base_uri": "https://localhost:8080/"
        },
        "id": "9Jw_0Q7yogaS",
        "outputId": "07a3b7f0-11d6-4e76-ea7e-a0494feefa36"
      },
      "execution_count": null,
      "outputs": [
        {
          "output_type": "execute_result",
          "data": {
            "text/plain": [
              "list"
            ]
          },
          "metadata": {},
          "execution_count": 57
        }
      ]
    },
    {
      "cell_type": "code",
      "source": [
        "v[2]=\"AA\"\n",
        "v"
      ],
      "metadata": {
        "colab": {
          "base_uri": "https://localhost:8080/"
        },
        "id": "dujgY53go-Te",
        "outputId": "f59a9726-80f6-4d5d-c3d9-5cd3c88b8fee"
      },
      "execution_count": null,
      "outputs": [
        {
          "output_type": "execute_result",
          "data": {
            "text/plain": [
              "['화이자', '모더나', 'AA', '얀센']"
            ]
          },
          "metadata": {},
          "execution_count": 66
        }
      ]
    },
    {
      "cell_type": "code",
      "source": [
        "v.pop()\n",
        "v"
      ],
      "metadata": {
        "colab": {
          "base_uri": "https://localhost:8080/",
          "height": 193
        },
        "id": "ZfMV55dKqJq6",
        "outputId": "47a56da4-f6af-40da-a193-e60363a94b83"
      },
      "execution_count": null,
      "outputs": [
        {
          "output_type": "error",
          "ename": "IndexError",
          "evalue": "ignored",
          "traceback": [
            "\u001b[0;31m---------------------------------------------------------------------------\u001b[0m",
            "\u001b[0;31mIndexError\u001b[0m                                Traceback (most recent call last)",
            "\u001b[0;32m<ipython-input-74-8c5ec02b2668>\u001b[0m in \u001b[0;36m<module>\u001b[0;34m\u001b[0m\n\u001b[0;32m----> 1\u001b[0;31m \u001b[0mv\u001b[0m\u001b[0;34m.\u001b[0m\u001b[0mpop\u001b[0m\u001b[0;34m(\u001b[0m\u001b[0;34m)\u001b[0m\u001b[0;34m\u001b[0m\u001b[0;34m\u001b[0m\u001b[0m\n\u001b[0m\u001b[1;32m      2\u001b[0m \u001b[0mv\u001b[0m\u001b[0;34m\u001b[0m\u001b[0;34m\u001b[0m\u001b[0m\n",
            "\u001b[0;31mIndexError\u001b[0m: pop from empty list"
          ]
        }
      ]
    },
    {
      "cell_type": "code",
      "source": [
        "L= [1,2,3,4,5]\n",
        "L"
      ],
      "metadata": {
        "id": "BOCJAkNPqZv_",
        "colab": {
          "base_uri": "https://localhost:8080/"
        },
        "outputId": "c46eb6a9-100e-4787-b914-3dee63c210c0"
      },
      "execution_count": null,
      "outputs": [
        {
          "output_type": "execute_result",
          "data": {
            "text/plain": [
              "[1, 2, 3, 4, 5]"
            ]
          },
          "metadata": {},
          "execution_count": 10
        }
      ]
    },
    {
      "cell_type": "code",
      "source": [
        "L= [1,2,3,4,5]\n",
        "L[len(L)-1] "
      ],
      "metadata": {
        "colab": {
          "base_uri": "https://localhost:8080/"
        },
        "id": "cZhC961ncx2o",
        "outputId": "04cffb19-5e9b-4e0d-9fc7-ede8d9c16e7e"
      },
      "execution_count": null,
      "outputs": [
        {
          "output_type": "execute_result",
          "data": {
            "text/plain": [
              "5"
            ]
          },
          "metadata": {},
          "execution_count": 22
        }
      ]
    },
    {
      "cell_type": "code",
      "source": [
        "bool(None)\n"
      ],
      "metadata": {
        "colab": {
          "base_uri": "https://localhost:8080/"
        },
        "id": "l2ir0W05dW7d",
        "outputId": "244bb9e8-81ea-4bf3-ee7b-72197c1b3840"
      },
      "execution_count": null,
      "outputs": [
        {
          "output_type": "execute_result",
          "data": {
            "text/plain": [
              "False"
            ]
          },
          "metadata": {},
          "execution_count": 3
        }
      ]
    },
    {
      "cell_type": "code",
      "source": [
        "bool(1)\n"
      ],
      "metadata": {
        "colab": {
          "base_uri": "https://localhost:8080/"
        },
        "id": "009i-BlddxJz",
        "outputId": "c69b84e8-b98d-42d4-edac-c23c9cd201a9"
      },
      "execution_count": null,
      "outputs": [
        {
          "output_type": "execute_result",
          "data": {
            "text/plain": [
              "True"
            ]
          },
          "metadata": {},
          "execution_count": 4
        }
      ]
    },
    {
      "cell_type": "code",
      "source": [
        "bool(\"\")"
      ],
      "metadata": {
        "colab": {
          "base_uri": "https://localhost:8080/"
        },
        "id": "vxD4DuefdKOo",
        "outputId": "94bce75c-2e45-46e3-e911-1266d0771e2f"
      },
      "execution_count": null,
      "outputs": [
        {
          "output_type": "execute_result",
          "data": {
            "text/plain": [
              "False"
            ]
          },
          "metadata": {},
          "execution_count": 5
        }
      ]
    },
    {
      "cell_type": "code",
      "source": [
        "bool(0)"
      ],
      "metadata": {
        "colab": {
          "base_uri": "https://localhost:8080/"
        },
        "id": "TlGdVhQPd0_k",
        "outputId": "e9c80d27-07b9-4f0f-9804-26b91d3a333c"
      },
      "execution_count": null,
      "outputs": [
        {
          "output_type": "execute_result",
          "data": {
            "text/plain": [
              "False"
            ]
          },
          "metadata": {},
          "execution_count": 7
        }
      ]
    },
    {
      "cell_type": "code",
      "source": [
        "a = \"mary\" \n",
        "b = 'maRy'\n",
        "c = 'mary!' \n",
        "d = 'ma ry'\n",
        "a.upper(), b.upper() c.upper() d.upper() \n"
      ],
      "metadata": {
        "colab": {
          "base_uri": "https://localhost:8080/",
          "height": 134
        },
        "id": "0kzasLrzWKu3",
        "outputId": "f192d9fd-a30d-4e78-cc0c-0f2a0e8153db"
      },
      "execution_count": null,
      "outputs": [
        {
          "output_type": "error",
          "ename": "SyntaxError",
          "evalue": "ignored",
          "traceback": [
            "\u001b[0;36m  File \u001b[0;32m\"<ipython-input-33-4a4407f8678a>\"\u001b[0;36m, line \u001b[0;32m5\u001b[0m\n\u001b[0;31m    a.upper(), b.upper() c.upper() d.upper()\u001b[0m\n\u001b[0m                         ^\u001b[0m\n\u001b[0;31mSyntaxError\u001b[0m\u001b[0;31m:\u001b[0m invalid syntax\n"
          ]
        }
      ]
    },
    {
      "cell_type": "markdown",
      "source": [
        "# 조건문 (퓨처스킬)"
      ],
      "metadata": {
        "id": "G8voDTqL3gXz"
      }
    },
    {
      "cell_type": "code",
      "source": [
        "# 조건문 첫번째 문제\n",
        "                   \n",
        "# height = float(input('키를 입력해주세요 : '))\n",
        "height = float(input(\"키를 입력해주세요 : \"))\n",
        "\n",
        "if height >= 150 : \n",
        "  print(True)\n",
        "else :\n",
        "  print(False)                \n",
        "  \n",
        "## 내가 푼것 ##  \n",
        "# height = 137.8\n",
        "# if height >= 150:\n",
        "# else:\n",
        "# height < 150\n",
        "# print(True)"
      ],
      "metadata": {
        "colab": {
          "base_uri": "https://localhost:8080/"
        },
        "id": "j1BdOuFA3xtJ",
        "outputId": "1b29ed2f-2e92-4f96-f451-f84beffa1010"
      },
      "execution_count": null,
      "outputs": [
        {
          "output_type": "stream",
          "name": "stdout",
          "text": [
            "키를 입력해주세요 : 150\n",
            "True\n"
          ]
        }
      ]
    },
    {
      "cell_type": "code",
      "source": [
        "# 조건문 두번째 문제\n",
        "n = int(input('숫자를 입력해주세요 : '))  # 입력할때는 input함수를 이용한다. \n",
        "\n",
        "if n % 3 == 0 :  # 배수문제는 나누기 생각 해보자. \n",
        "  print('짝')\n",
        "else :\n",
        "  print(n) "
      ],
      "metadata": {
        "id": "Dys1A7FlJAio"
      },
      "execution_count": null,
      "outputs": []
    },
    {
      "cell_type": "markdown",
      "source": [
        "# for문 실험 기초 코드"
      ],
      "metadata": {
        "id": "X_nyDG8AaE1C"
      }
    },
    {
      "cell_type": "code",
      "source": [
        "listA=['a', 'b', 'c', 'd']\n",
        "\n",
        "for i in range(1,7,3):\n",
        "  print(i,\"py\")"
      ],
      "metadata": {
        "colab": {
          "base_uri": "https://localhost:8080/"
        },
        "id": "4hPwJzusaNaL",
        "outputId": "da740944-6e77-4c36-984c-40ae00963bf0"
      },
      "execution_count": null,
      "outputs": [
        {
          "output_type": "stream",
          "name": "stdout",
          "text": [
            "1 py\n",
            "4 py\n"
          ]
        }
      ]
    },
    {
      "cell_type": "code",
      "source": [],
      "metadata": {
        "id": "BwscVI72FMDi"
      },
      "execution_count": null,
      "outputs": []
    },
    {
      "cell_type": "code",
      "source": [
        "num1=int(input(\"첫번째 정수 입력\"))\n",
        "num2=int(input(\"두번째 정수 입력\"))\n",
        "sum=0\n",
        "for i in range(num1, num2+1, 1):\n",
        "  sum=sum+i\n",
        "\n",
        "  \n",
        "   print(sum)\n",
        "# print(num1, \"에서\", num2, \"까지 합은 \", sum)\n"
      ],
      "metadata": {
        "colab": {
          "base_uri": "https://localhost:8080/"
        },
        "id": "qK4CWyrHkbLY",
        "outputId": "82b0e356-ede9-47e4-9976-fc6bd5a1061e"
      },
      "execution_count": null,
      "outputs": [
        {
          "output_type": "stream",
          "name": "stdout",
          "text": [
            "첫번째 정수 입력5\n",
            "두번째 정수 입력10\n",
            "5\n",
            "11\n",
            "18\n",
            "26\n",
            "35\n",
            "45\n"
          ]
        }
      ]
    },
    {
      "cell_type": "code",
      "source": [
        "sum=0\n",
        "for i in [1,2,3]:\n",
        "  sum=sum+i\n",
        "print(sum)"
      ],
      "metadata": {
        "colab": {
          "base_uri": "https://localhost:8080/"
        },
        "id": "hLC1Q2gJqqXP",
        "outputId": "89144b34-e635-4ab0-eb90-0e4a60001299"
      },
      "execution_count": null,
      "outputs": [
        {
          "output_type": "stream",
          "name": "stdout",
          "text": [
            "6\n"
          ]
        }
      ]
    },
    {
      "cell_type": "code",
      "source": [
        "sum=0\n",
        "i=1\n",
        "while i<=10:\n",
        "  sum=sum+i\n",
        "  i=i+1\n",
        "print(sum)"
      ],
      "metadata": {
        "colab": {
          "base_uri": "https://localhost:8080/"
        },
        "id": "-7ZMXvY3w8en",
        "outputId": "9881468b-9ecd-423b-a2ce-621f482d70a8"
      },
      "execution_count": null,
      "outputs": [
        {
          "output_type": "stream",
          "name": "stdout",
          "text": [
            "55\n"
          ]
        }
      ]
    },
    {
      "cell_type": "code",
      "source": [
        "sum=0\n",
        "\n",
        "for i in range(1,10,1):\n",
        "  if i%2==0:\n",
        "     sum=sum+i\n",
        "print(sum)"
      ],
      "metadata": {
        "colab": {
          "base_uri": "https://localhost:8080/"
        },
        "id": "umUC4Miey0eq",
        "outputId": "a81f1f5c-7ceb-46e8-ce20-d6040b631722"
      },
      "execution_count": null,
      "outputs": [
        {
          "output_type": "stream",
          "name": "stdout",
          "text": [
            "20\n"
          ]
        }
      ]
    },
    {
      "cell_type": "markdown",
      "source": [
        "# **왜 곱하기 연산에서 for문 안에 print 함수 위치에 따라서 출력값이 달라지는 걸까???**"
      ],
      "metadata": {
        "id": "e1BcdXnX_RFh"
      }
    },
    {
      "cell_type": "code",
      "source": [
        "num=int(input(\"정수입력 : \"))\n",
        "\n",
        "for i in [1,2,3,4]:\n",
        "  res=num*i\n",
        "\n",
        "  print(num, \"X\", i, \"=\", res) "
      ],
      "metadata": {
        "colab": {
          "base_uri": "https://localhost:8080/"
        },
        "id": "1w32MvRl2tqw",
        "outputId": "8bdc4d4e-fc6e-47a3-f4a1-1157b71931a6"
      },
      "execution_count": null,
      "outputs": [
        {
          "output_type": "stream",
          "name": "stdout",
          "text": [
            "정수입력 : 3\n",
            "3 X 1 = 3\n",
            "3 X 2 = 6\n",
            "3 X 3 = 9\n",
            "3 X 4 = 12\n"
          ]
        }
      ]
    },
    {
      "cell_type": "code",
      "source": [],
      "metadata": {
        "id": "6aECpOR56pYO"
      },
      "execution_count": null,
      "outputs": []
    },
    {
      "cell_type": "code",
      "source": [
        "num=int(input(\"정수입력 : \"))\n",
        "# res=0 이게 꼭 필요한걸까?\n",
        "for i in [1,2,3,4]:\n",
        "  res=num*i\n",
        "\n",
        "print(num, \"X\", i, \"=\", res) "
      ],
      "metadata": {
        "colab": {
          "base_uri": "https://localhost:8080/"
        },
        "id": "OlmUCd3Z6l9N",
        "outputId": "7ae64b97-c7c5-4f02-a440-8e2a6b58ab4f"
      },
      "execution_count": null,
      "outputs": [
        {
          "output_type": "stream",
          "name": "stdout",
          "text": [
            "정수입력 : 3\n",
            "3 X 4 = 12\n"
          ]
        }
      ]
    },
    {
      "cell_type": "code",
      "source": [
        "for i in range(5):\n",
        "    print(i,end= \" \")"
      ],
      "metadata": {
        "colab": {
          "base_uri": "https://localhost:8080/"
        },
        "id": "3lwPzGW67xrQ",
        "outputId": "b56279c7-2c4f-437b-9f47-af25e024e201"
      },
      "execution_count": null,
      "outputs": [
        {
          "output_type": "stream",
          "name": "stdout",
          "text": [
            "0 1 2 3 4 "
          ]
        }
      ]
    },
    {
      "cell_type": "code",
      "source": [
        "array = [1,2,3,4,5]\n",
        "maxvalue = array[0]\n",
        "\n",
        "for i in range(1,len(array)):\n",
        "  if maxvalue < array[i]:\n",
        "    maxvalue = array[i]\n",
        "\n",
        "  print(maxvalue, end=\" \")\n",
        "\n",
        "\n",
        "# 위같은 경우는 for문이 모두 종료된 이후에 print문을 호출해서 딱 한번만 출력합니다.\n",
        "\n",
        "# 하지만 두번째는 for문 안에 if문 안에 들어있기 때문에\n",
        "\n",
        "# array[i]가 maxValue보다 클때마다 출력하게 됩니다.\n",
        "\n",
        "# 일단 for문은 2, 3, 4, 5를 반복할꺼고 총 4번 출력하게 되겠네요\n",
        "\n",
        "# 유효범위라는게 있습니다. 아래의 사진에서 형광색 부분이 for문의 유효범위입니다.\n",
        "# 그렇기때문에 print는 for문의 유효범위에 있지 않기때문에 for문이 종료된 후 딱 한번 수행합니다."
      ],
      "metadata": {
        "colab": {
          "base_uri": "https://localhost:8080/"
        },
        "id": "jtUVglcF9dCU",
        "outputId": "c3c826f8-ed06-40ef-8866-eefa243056ce"
      },
      "execution_count": null,
      "outputs": [
        {
          "output_type": "stream",
          "name": "stdout",
          "text": [
            "2 3 4 5 "
          ]
        }
      ]
    },
    {
      "cell_type": "code",
      "source": [
        "for i in range(2, 10):\n",
        "    for j in range(1, 10):\n",
        "        print(i, \"X\", j, \"=\", i * j)\n",
        "        if(j == 9):\n",
        "          print()  # for문안에서 print()은 한줄띄어쓰기?"
      ],
      "metadata": {
        "colab": {
          "base_uri": "https://localhost:8080/"
        },
        "id": "2J3c_fyxBORj",
        "outputId": "25db49d8-d8fe-41e2-c787-5309b22f6bcc"
      },
      "execution_count": null,
      "outputs": [
        {
          "output_type": "stream",
          "name": "stdout",
          "text": [
            "2 X 1 = 2\n",
            "2 X 2 = 4\n",
            "2 X 3 = 6\n",
            "2 X 4 = 8\n",
            "2 X 5 = 10\n",
            "2 X 6 = 12\n",
            "2 X 7 = 14\n",
            "2 X 8 = 16\n",
            "2 X 9 = 18\n",
            "\n",
            "3 X 1 = 3\n",
            "3 X 2 = 6\n",
            "3 X 3 = 9\n",
            "3 X 4 = 12\n",
            "3 X 5 = 15\n",
            "3 X 6 = 18\n",
            "3 X 7 = 21\n",
            "3 X 8 = 24\n",
            "3 X 9 = 27\n",
            "\n",
            "4 X 1 = 4\n",
            "4 X 2 = 8\n",
            "4 X 3 = 12\n",
            "4 X 4 = 16\n",
            "4 X 5 = 20\n",
            "4 X 6 = 24\n",
            "4 X 7 = 28\n",
            "4 X 8 = 32\n",
            "4 X 9 = 36\n",
            "\n",
            "5 X 1 = 5\n",
            "5 X 2 = 10\n",
            "5 X 3 = 15\n",
            "5 X 4 = 20\n",
            "5 X 5 = 25\n",
            "5 X 6 = 30\n",
            "5 X 7 = 35\n",
            "5 X 8 = 40\n",
            "5 X 9 = 45\n",
            "\n",
            "6 X 1 = 6\n",
            "6 X 2 = 12\n",
            "6 X 3 = 18\n",
            "6 X 4 = 24\n",
            "6 X 5 = 30\n",
            "6 X 6 = 36\n",
            "6 X 7 = 42\n",
            "6 X 8 = 48\n",
            "6 X 9 = 54\n",
            "\n",
            "7 X 1 = 7\n",
            "7 X 2 = 14\n",
            "7 X 3 = 21\n",
            "7 X 4 = 28\n",
            "7 X 5 = 35\n",
            "7 X 6 = 42\n",
            "7 X 7 = 49\n",
            "7 X 8 = 56\n",
            "7 X 9 = 63\n",
            "\n",
            "8 X 1 = 8\n",
            "8 X 2 = 16\n",
            "8 X 3 = 24\n",
            "8 X 4 = 32\n",
            "8 X 5 = 40\n",
            "8 X 6 = 48\n",
            "8 X 7 = 56\n",
            "8 X 8 = 64\n",
            "8 X 9 = 72\n",
            "\n",
            "9 X 1 = 9\n",
            "9 X 2 = 18\n",
            "9 X 3 = 27\n",
            "9 X 4 = 36\n",
            "9 X 5 = 45\n",
            "9 X 6 = 54\n",
            "9 X 7 = 63\n",
            "9 X 8 = 72\n",
            "9 X 9 = 81\n",
            "\n"
          ]
        }
      ]
    },
    {
      "cell_type": "code",
      "source": [
        "a = 1\n",
        "b = a+1\n",
        "print(a and b)"
      ],
      "metadata": {
        "colab": {
          "base_uri": "https://localhost:8080/"
        },
        "id": "mQEGFHvIBiuJ",
        "outputId": "08b12f82-57ed-48c7-a075-d80d300ef1b8"
      },
      "execution_count": null,
      "outputs": [
        {
          "output_type": "stream",
          "name": "stdout",
          "text": [
            "2\n"
          ]
        }
      ]
    },
    {
      "cell_type": "code",
      "source": [
        "for i in range(2, 10):\n",
        "    for j in range(1, 10):\n",
        "     print(i, \"X\", j, \"=\", i * j, end = '\\t')\n",
        "     "
      ],
      "metadata": {
        "colab": {
          "base_uri": "https://localhost:8080/"
        },
        "id": "yIwmlbYDCXDJ",
        "outputId": "20b87660-99c2-4690-a68b-8e6f7171e107"
      },
      "execution_count": null,
      "outputs": [
        {
          "output_type": "stream",
          "name": "stdout",
          "text": [
            "2 X 1 = 2\t2 X 2 = 4\t2 X 3 = 6\t2 X 4 = 8\t2 X 5 = 10\t2 X 6 = 12\t2 X 7 = 14\t2 X 8 = 16\t2 X 9 = 18\t3 X 1 = 3\t3 X 2 = 6\t3 X 3 = 9\t3 X 4 = 12\t3 X 5 = 15\t3 X 6 = 18\t3 X 7 = 21\t3 X 8 = 24\t3 X 9 = 27\t4 X 1 = 4\t4 X 2 = 8\t4 X 3 = 12\t4 X 4 = 16\t4 X 5 = 20\t4 X 6 = 24\t4 X 7 = 28\t4 X 8 = 32\t4 X 9 = 36\t5 X 1 = 5\t5 X 2 = 10\t5 X 3 = 15\t5 X 4 = 20\t5 X 5 = 25\t5 X 6 = 30\t5 X 7 = 35\t5 X 8 = 40\t5 X 9 = 45\t6 X 1 = 6\t6 X 2 = 12\t6 X 3 = 18\t6 X 4 = 24\t6 X 5 = 30\t6 X 6 = 36\t6 X 7 = 42\t6 X 8 = 48\t6 X 9 = 54\t7 X 1 = 7\t7 X 2 = 14\t7 X 3 = 21\t7 X 4 = 28\t7 X 5 = 35\t7 X 6 = 42\t7 X 7 = 49\t7 X 8 = 56\t7 X 9 = 63\t8 X 1 = 8\t8 X 2 = 16\t8 X 3 = 24\t8 X 4 = 32\t8 X 5 = 40\t8 X 6 = 48\t8 X 7 = 56\t8 X 8 = 64\t8 X 9 = 72\t9 X 1 = 9\t9 X 2 = 18\t9 X 3 = 27\t9 X 4 = 36\t9 X 5 = 45\t9 X 6 = 54\t9 X 7 = 63\t9 X 8 = 72\t9 X 9 = 81\t"
          ]
        }
      ]
    },
    {
      "cell_type": "code",
      "source": [
        "def print_sum():\n",
        "  result = a+b\n",
        "  print(\"내부\", result)\n",
        "\n",
        "b=20\n",
        "a=10\n",
        "print_sum()   # call function  이게 없으면 외부만 출력된다.\n",
        "result = a*b  \n",
        "print(\"외부\", result)"
      ],
      "metadata": {
        "colab": {
          "base_uri": "https://localhost:8080/"
        },
        "id": "9WqiPCu_IgIe",
        "outputId": "5b285893-e677-44e6-ea66-31840d292838"
      },
      "execution_count": null,
      "outputs": [
        {
          "output_type": "stream",
          "name": "stdout",
          "text": [
            "내부 30\n",
            "외부 200\n"
          ]
        }
      ]
    },
    {
      "cell_type": "code",
      "source": [
        "def greet(*names):\n",
        "  for name in names:\n",
        "    print(name)\n",
        "    \n",
        "\n",
        "greet('m', 'S')\n",
        "greet('wotmd','wodn','dkdjt','ahffk')"
      ],
      "metadata": {
        "colab": {
          "base_uri": "https://localhost:8080/"
        },
        "id": "sgo-MD6vMJL-",
        "outputId": "dc127c67-8f5c-4a23-d69f-fda31c3167c9"
      },
      "execution_count": null,
      "outputs": [
        {
          "output_type": "stream",
          "name": "stdout",
          "text": [
            "m\n",
            "S\n",
            "wotmd\n",
            "wodn\n",
            "dkdjt\n",
            "ahffk\n"
          ]
        }
      ]
    },
    {
      "cell_type": "code",
      "source": [
        "def sum_sum(*numbers):\n",
        "  result = 0\n",
        "  for n in numbers:\n",
        "    \n",
        "    result = result + n\n",
        "  \n",
        "  return result\n",
        "\n",
        "sum_sum(10,20,30)\n",
        "\n",
        "print(result)  # 이거는 왜 200이 나올까? 이게 파이썬 오류인가? 이거 새로운 작업환경에 붙이고 하면 오류라고 나옴."
      ],
      "metadata": {
        "colab": {
          "base_uri": "https://localhost:8080/"
        },
        "id": "oyGOo10zNrIm",
        "outputId": "507314d0-11df-413c-a862-c7636a422c76"
      },
      "execution_count": null,
      "outputs": [
        {
          "output_type": "stream",
          "name": "stdout",
          "text": [
            "200\n"
          ]
        }
      ]
    },
    {
      "cell_type": "code",
      "source": [
        "def sum_sum(*numbers):\n",
        "  result = 0\n",
        "  for n in numbers:\n",
        "    \n",
        "    result = result + n\n",
        "  \n",
        "    return result  # return 위치에 따라 for문 안에서 한번찍고 나오느냐 아니면 다 돌고 나오느냐 차이가 있다.\n",
        "\n",
        "\n",
        "print(sum_sum(23210,30))"
      ],
      "metadata": {
        "colab": {
          "base_uri": "https://localhost:8080/"
        },
        "id": "NXb-6N2qRf1h",
        "outputId": "9f446840-2c28-4575-a96b-2fa19eecb000"
      },
      "execution_count": null,
      "outputs": [
        {
          "output_type": "stream",
          "name": "stdout",
          "text": [
            "23210\n"
          ]
        }
      ]
    },
    {
      "cell_type": "markdown",
      "source": [
        "# 전역변수, 지역변수 테스트"
      ],
      "metadata": {
        "id": "GfwMgsO5IyDE"
      }
    },
    {
      "cell_type": "code",
      "source": [
        "even = 0\n",
        "odd = 0\n",
        "\n",
        "for  i in range(1,10,1):\n",
        "    if (i % 2) == 0:\n",
        "        even = even + i\n",
        "    \n",
        "    else:\n",
        "        odd=odd+i\n",
        "\n",
        "print(even, odd)"
      ],
      "metadata": {
        "colab": {
          "base_uri": "https://localhost:8080/"
        },
        "id": "ac7m1PZoI2dS",
        "outputId": "7e4dbb0a-cdac-45a6-b1a2-fc37f73554d2"
      },
      "execution_count": null,
      "outputs": [
        {
          "output_type": "stream",
          "name": "stdout",
          "text": [
            "20 25\n"
          ]
        }
      ]
    },
    {
      "cell_type": "code",
      "source": [
        "even = 41  # 전역변수 # 여기 변수들이 for문에 들어가서 대입이 된다는거 확인\n",
        "odd = 41   # 전역변수\n",
        "\n",
        "for  i in range(4): \n",
        "    even_1 = even + i\n",
        "    odd_1 = odd + i\n",
        "\n",
        "    print(\"짝수:\", even_1,  \"홀수:\",odd_1)"
      ],
      "metadata": {
        "colab": {
          "base_uri": "https://localhost:8080/"
        },
        "id": "rhFYKBgNJojt",
        "outputId": "8b8b733a-b137-4417-e827-424f4d717ac0"
      },
      "execution_count": null,
      "outputs": [
        {
          "output_type": "stream",
          "name": "stdout",
          "text": [
            "짝수: 41 홀수: 41\n",
            "짝수: 42 홀수: 42\n",
            "짝수: 43 홀수: 43\n",
            "짝수: 44 홀수: 44\n"
          ]
        }
      ]
    },
    {
      "cell_type": "code",
      "source": [
        "even = 41 # 전역변수\n",
        "odd = 41  # 전역변수 \n",
        "\n",
        "for  i in range(4): \n",
        "    even_1 = even + i\n",
        "    odd_1 = odd + i\n",
        "\n",
        "print(\"짝수:\", even_1,  \"홀수:\",odd_1)   # 여기서 궁금증인데 for문 안에 있는 변수인데 밖에 있는 print가 어떻게 even_1, odd_1이 어떻게 출력이 되는지 이해가 안됨."
      ],
      "metadata": {
        "colab": {
          "base_uri": "https://localhost:8080/"
        },
        "id": "E9xv9wzjNN46",
        "outputId": "f739c63c-6d6a-405a-f852-61bcf8782bb2"
      },
      "execution_count": null,
      "outputs": [
        {
          "output_type": "stream",
          "name": "stdout",
          "text": [
            "짝수: 44 홀수: 44\n"
          ]
        }
      ]
    },
    {
      "cell_type": "code",
      "source": [
        "even = 0 # 전역변수는 모든곳에 침투해서 def든 class, for문이든 다됨.\n",
        "odd = 0  # 전역변수는 모든곳에 침투해서 def든 class, for문이든 다됨.\n",
        "\n",
        "for  i in range(4): \n",
        "    even_2 = even_2 + i\n",
        "    #odd_2 = odd_2 + i\n",
        "\n",
        "    even_3 = even_2\n",
        "\n",
        "print(\"짝수:\", even_3)"
      ],
      "metadata": {
        "colab": {
          "base_uri": "https://localhost:8080/"
        },
        "id": "DszQBakxN72j",
        "outputId": "fa22dd51-27a1-4c2e-c020-0a734c07f73d"
      },
      "execution_count": null,
      "outputs": [
        {
          "output_type": "stream",
          "name": "stdout",
          "text": [
            "짝수: 197\n",
            "짝수: 198\n",
            "짝수: 200\n",
            "짝수: 203\n"
          ]
        }
      ]
    },
    {
      "cell_type": "code",
      "source": [
        "# marks2.py \n",
        "marks = [90, 25, 67, 45, 80]\n",
        "\n",
        "number = 0 \n",
        "for mark in marks: \n",
        "    number_ = number +1 \n",
        "    if mark < 60:\n",
        "        continue # 이거는 조건 만족하면 통과시키는 코드다.  저팔계 통과 개념이다. \n",
        " \n",
        "    print(\"%d번 학생 축하합니다. 합격입니다. \" % number)"
      ],
      "metadata": {
        "colab": {
          "base_uri": "https://localhost:8080/"
        },
        "id": "YZnq4OCiNaVK",
        "outputId": "1bb68227-194b-45d6-e20c-4077bbf25705"
      },
      "execution_count": null,
      "outputs": [
        {
          "output_type": "stream",
          "name": "stdout",
          "text": [
            "0번 학생 축하합니다. 합격입니다. \n"
          ]
        }
      ]
    },
    {
      "cell_type": "code",
      "source": [
        "for i in range(5):\n",
        "    x = i * 2\n",
        "    print(x)\n",
        "\n",
        "print(x)  # chatgpt에서 원래는 오류가 나야 정상이다.\n",
        "\n",
        "\n"
      ],
      "metadata": {
        "id": "nx76bI7FS-s6",
        "colab": {
          "base_uri": "https://localhost:8080/"
        },
        "outputId": "c72797cd-c5ea-4585-8de6-e1468c8f9b95"
      },
      "execution_count": 6,
      "outputs": [
        {
          "output_type": "stream",
          "name": "stdout",
          "text": [
            "0\n",
            "2\n",
            "4\n",
            "6\n",
            "8\n",
            "8\n"
          ]
        }
      ]
    },
    {
      "cell_type": "code",
      "source": [
        "x_2\n",
        "\n",
        "for i in range(5):\n",
        "    x_2 = x_1 + i\n",
        "\n",
        "print(x_2)"
      ],
      "metadata": {
        "colab": {
          "base_uri": "https://localhost:8080/"
        },
        "id": "t1S-zFpmxpwB",
        "outputId": "14306803-3928-4bd6-cf06-f512f5b65679"
      },
      "execution_count": 24,
      "outputs": [
        {
          "output_type": "stream",
          "name": "stdout",
          "text": [
            "4\n"
          ]
        }
      ]
    }
  ]
}