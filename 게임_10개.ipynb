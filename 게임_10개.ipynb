{
  "nbformat": 4,
  "nbformat_minor": 0,
  "metadata": {
    "colab": {
      "provenance": [],
      "authorship_tag": "ABX9TyNJsyIDrBuiUhi8b7xZR2wG"
    },
    "kernelspec": {
      "name": "python3",
      "display_name": "Python 3"
    },
    "language_info": {
      "name": "python"
    },
    "gpuClass": "standard"
  },
  "cells": [
    {
      "cell_type": "markdown",
      "source": [
        "# 2장_단어 채우기 게임 만들기"
      ],
      "metadata": {
        "id": "cPl_SLIYs1WT"
      }
    },
    {
      "cell_type": "code",
      "execution_count": null,
      "metadata": {
        "colab": {
          "base_uri": "https://localhost:8080/"
        },
        "id": "z1OZPl91sG4g",
        "outputId": "5930fe56-0d8e-4c38-b813-c51dc62f2dd4"
      },
      "outputs": [
        {
          "output_type": "stream",
          "name": "stdout",
          "text": [
            "안녕하세요, 저는 쉬무엘 이며 프로그래머랍니다.!\n"
          ]
        }
      ],
      "source": [
        "# 워밍업\n",
        "firstName = \"쉬무엘\"\n",
        "print(\"안녕하세요, 저는\", firstName, \"이며 프로그래머랍니다.!\")\n"
      ]
    },
    {
      "cell_type": "code",
      "source": [
        "# 단어 채우기 게임이란 빈칸을 채운 단어에 따라 이야기 흐름이 달라지는 놀이 입니다. 빈칸이 있는 문장에 동사, 명사. 형용사, 등의 단어를 채워 이야기를 재미있게 만들면 됩니다. "
      ],
      "metadata": {
        "id": "ceZ9TxHTuoal"
      },
      "execution_count": null,
      "outputs": []
    },
    {
      "cell_type": "code",
      "source": [
        "print(\"저의 반려동물은 이구아나이며 이름은 스파이크입니다.\")\n",
        "print(\"길고 초록색이며 느릿느릿합니다.\")\n",
        "print(\"스파이크는 나뭇잎, 꽃, 과일을 먹습니다.\")\n",
        "print(\"가장 좋아하는 장난감은 작은 노란색 공입니다.\")"
      ],
      "metadata": {
        "id": "2YHZmzChu6wd",
        "colab": {
          "base_uri": "https://localhost:8080/"
        },
        "outputId": "e01a0b5d-2aab-4fd3-ada2-fc9b40ac7ecd"
      },
      "execution_count": null,
      "outputs": [
        {
          "output_type": "stream",
          "name": "stdout",
          "text": [
            "저의 반려동물은 이구아나이며 이름은 스파이크입니다.\n",
            "길고 초록색이며 느릿느릿합니다.\n",
            "스파이크는 나뭇잎, 꽃, 과일을 먹습니다.\n",
            "가장 좋아하는 장난감은 작은 노란색 공입니다.\n"
          ]
        }
      ]
    },
    {
      "cell_type": "code",
      "source": [
        "animal = \"이구아나\"\n",
        "name = \"스파이크\"\n",
        "\n",
        "print(\"저의 반려동물은\", animal,\"이며 이름은 스파이크입니다.\")\n",
        "print(\"길고 초록색이며 느릿느릿합니다.\")\n",
        "print(\"스파이크는 나뭇잎, 꽃, 과일을 먹습니다.\")\n",
        "print(\"가장 좋아하는 장난감은 작은 노란색 공입니다.\")"
      ],
      "metadata": {
        "colab": {
          "base_uri": "https://localhost:8080/"
        },
        "id": "8aLRHPzOveqc",
        "outputId": "c9c87fbc-a0b1-4821-bcee-994ddac018b7"
      },
      "execution_count": null,
      "outputs": [
        {
          "output_type": "stream",
          "name": "stdout",
          "text": [
            "저의 반려동물은 이구아나 이며 이름은 스파이크입니다.\n",
            "길고 초록색이며 느릿느릿합니다.\n",
            "스파이크는 나뭇잎, 꽃, 과일을 먹습니다.\n",
            "가장 좋아하는 장난감은 작은 노란색 공입니다.\n"
          ]
        }
      ]
    },
    {
      "cell_type": "code",
      "source": [
        "print(\"안녕하세요.! 다음 질문에 잡하고 이야기를 완성하세요.\")\n",
        "print()\n",
        "animal = input(\"동물을 입력하세요: \")\n",
        "name = input(\"이름을 입력하세요.: \")\n"
      ],
      "metadata": {
        "colab": {
          "base_uri": "https://localhost:8080/"
        },
        "id": "iLV0IgTLM7cn",
        "outputId": "fa0960b4-9f2e-4a61-f174-44182ef3fda5"
      },
      "execution_count": null,
      "outputs": [
        {
          "name": "stdout",
          "output_type": "stream",
          "text": [
            "안녕하세요.! 다음 질문에 잡하고 이야기를 완성하세요.\n",
            "\n",
            "동물을 입력하세요: 고양이\n",
            "이름을 입력하세요.: 사라\n"
          ]
        }
      ]
    },
    {
      "cell_type": "markdown",
      "source": [
        "# 3장 주사위 던지기 게임 만들기\n"
      ],
      "metadata": {
        "id": "zEWSfFNWN3SP"
      }
    },
    {
      "cell_type": "code",
      "source": [
        "import random\n",
        "\n",
        "num = random.randrange(1,11)\n",
        "print(\"무작위 숫자:\", num)"
      ],
      "metadata": {
        "colab": {
          "base_uri": "https://localhost:8080/"
        },
        "id": "pJY4ZI2zN6VM",
        "outputId": "8015932e-5e20-4e7e-b2a0-57ee893e8d94"
      },
      "execution_count": null,
      "outputs": [
        {
          "output_type": "stream",
          "name": "stdout",
          "text": [
            "무작위 숫자: 8\n"
          ]
        }
      ]
    },
    {
      "cell_type": "code",
      "source": [
        "choices = \"HT\"\n",
        "\n",
        "coinToss = random.choice(choices)\n",
        "\n",
        "print(coinToss,\"입니다.\")"
      ],
      "metadata": {
        "colab": {
          "base_uri": "https://localhost:8080/"
        },
        "id": "5XS8gbAdTeRH",
        "outputId": "f106d904-2fa4-4b29-b771-220063b208c2"
      },
      "execution_count": null,
      "outputs": [
        {
          "output_type": "stream",
          "name": "stdout",
          "text": [
            "H 입니다.\n"
          ]
        }
      ]
    },
    {
      "cell_type": "code",
      "source": [
        "choices = [\"앞면\", \"뒷면\"]\n",
        "\n",
        "coinToss = random.choice(choices)\n",
        "\n",
        "print(coinToss, \"입니다.\")"
      ],
      "metadata": {
        "colab": {
          "base_uri": "https://localhost:8080/"
        },
        "id": "61-XpBa5ULII",
        "outputId": "7b82653c-8154-4a93-c26a-0ea0d6227dc4"
      },
      "execution_count": null,
      "outputs": [
        {
          "output_type": "stream",
          "name": "stdout",
          "text": [
            "뒷면 입니다.\n"
          ]
        }
      ]
    },
    {
      "cell_type": "code",
      "source": [
        "fullname = firstname + \"\" + lastname\n",
        "\n",
        "변수 이름은 따옴표로 감싸지 않습니다.\n",
        "숫자는 따옴표로 감싸지 않습니다.\n",
        "문자열은 항상 따옴표로 감싸야 합니다.\n"
      ],
      "metadata": {
        "id": "CrRC_yuWVs0L"
      },
      "execution_count": null,
      "outputs": []
    },
    {
      "cell_type": "code",
      "source": [
        "print(\"나온눈:\", random.randrange(1,7))"
      ],
      "metadata": {
        "colab": {
          "base_uri": "https://localhost:8080/"
        },
        "id": "WJuP3SYlYD_2",
        "outputId": "8d6cfe96-b3eb-4d41-b17f-ec5ae3af7d25"
      },
      "execution_count": null,
      "outputs": [
        {
          "output_type": "stream",
          "name": "stdout",
          "text": [
            "나온눈: 5\n"
          ]
        }
      ]
    },
    {
      "cell_type": "code",
      "source": [
        "die1 = random.randrange(1,7)\n",
        "die2 = random.randrange(1,7)\n",
        "\n",
        "print(\"나온 눈은\", die1, \",\", \"이며 합은\", die1 + die2, \"입니다.\")"
      ],
      "metadata": {
        "colab": {
          "base_uri": "https://localhost:8080/"
        },
        "id": "_GiLpDqOZQMC",
        "outputId": "fe57d40d-70c8-4522-99f2-48c4c9bab0ca"
      },
      "execution_count": null,
      "outputs": [
        {
          "output_type": "stream",
          "name": "stdout",
          "text": [
            "나온 눈은 6 , 이며 합은 12 입니다.\n"
          ]
        }
      ]
    },
    {
      "cell_type": "code",
      "source": [
        "# 12면제 주사위 돌리기\n",
        "random.randrange(1,13)\n",
        "또는\n",
        "random.randrange(1,7) + random.randrange(6,13)"
      ],
      "metadata": {
        "id": "t8qgCVEYZ2lR"
      },
      "execution_count": null,
      "outputs": []
    },
    {
      "cell_type": "markdown",
      "source": [
        "# 4장 날짜 계산하기.\n"
      ],
      "metadata": {
        "id": "7NbyUxIidMD9"
      }
    },
    {
      "cell_type": "code",
      "source": [
        "import datetime\n",
        "\n",
        "today = datetime.datetime.now()\n",
        "\n",
        "print(\"지금은\", today, \"입니다.\")"
      ],
      "metadata": {
        "colab": {
          "base_uri": "https://localhost:8080/"
        },
        "id": "2MF6599ddPsS",
        "outputId": "cb5435f4-9251-4397-b455-7842b1737a92"
      },
      "execution_count": null,
      "outputs": [
        {
          "output_type": "stream",
          "name": "stdout",
          "text": [
            "지금은 2023-02-19 16:19:35.192779 입니다.\n"
          ]
        }
      ]
    },
    {
      "cell_type": "code",
      "source": [
        "today = datetime.datetime.now()\n",
        "\n",
        "print(\"지금은\", today.year, \"년입니다.\")\n",
        "print(\"지금은\", today.month, \"월입니다.\")\n",
        "print(\"지금은\", today.day, \"일입니다.\")\n",
        "print(\"지금은\", today.hour, \"시입니다.\")\n",
        "print(\"지금은\", today.minute, \"분입니다.\")"
      ],
      "metadata": {
        "colab": {
          "base_uri": "https://localhost:8080/"
        },
        "id": "eEINcmFMlcDn",
        "outputId": "1581dd66-72c4-40ed-d6a5-a38237c85a62"
      },
      "execution_count": null,
      "outputs": [
        {
          "output_type": "stream",
          "name": "stdout",
          "text": [
            "지금은 2023 년입니다.\n",
            "지금은 2 월입니다.\n",
            "지금은 19 일입니다.\n",
            "지금은 17 시입니다.\n",
            "지금은 12 분입니다.\n"
          ]
        }
      ]
    },
    {
      "cell_type": "code",
      "source": [
        "# 컴퓨터로 결정하기.\n",
        "\n",
        "today = datetime.datetime.now()\n",
        "\n",
        "if today.weekday() == 2:\n",
        "    print(\"주말이므로 학교에 가지 않습니다.\")\n",
        "    print(\"온종일 코딩하며 지낼 수 있습니다.!\")\n",
        "else:\n",
        "    print(\"오늘은 학교 가는 날입니다.\")"
      ],
      "metadata": {
        "colab": {
          "base_uri": "https://localhost:8080/"
        },
        "id": "1jekPyQ5qRwY",
        "outputId": "bb6a59cc-9ec2-45ee-dbdb-b6fb59e49c1a"
      },
      "execution_count": null,
      "outputs": [
        {
          "output_type": "stream",
          "name": "stdout",
          "text": [
            "오늘은 학교 가는 날입니다.\n"
          ]
        }
      ]
    },
    {
      "cell_type": "code",
      "source": [
        "today = datetime.datetime.now()\n",
        "\n",
        "if today.weekday() == 5 or today.weekday() == 6:\n",
        "    print(\"주말이므로 학교에 가지 않습니다.\")\n",
        "    print(\"온종일 코딩하며 지낼 수 있어요!\")\n",
        "\n",
        "elif today.weekday() == 4:\n",
        "    print(\"금요일이므로 내일이면 코딩하며 시간을 보낼 수 있어요!\")\n",
        "\n",
        "else:\n",
        "    print(\"오늘은 학교 가는 날입니다.\")"
      ],
      "metadata": {
        "colab": {
          "base_uri": "https://localhost:8080/"
        },
        "id": "aLhix5gusdXA",
        "outputId": "cb3f9bc7-8af2-463d-b82a-7a6f94cc27e4"
      },
      "execution_count": null,
      "outputs": [
        {
          "output_type": "stream",
          "name": "stdout",
          "text": [
            "주말이므로 학교에 가지 않습니다.\n",
            "온종일 코딩하며 지낼 수 있어요!\n"
          ]
        }
      ]
    },
    {
      "cell_type": "code",
      "source": [
        "if today.weekday() in [5,6]:  # if today.weekday() == 5 or today.weekday() == 6\n",
        "\n"
      ],
      "metadata": {
        "id": "g3HWFtVFtjx0"
      },
      "execution_count": null,
      "outputs": []
    },
    {
      "cell_type": "markdown",
      "source": [
        "# 날짜 계산 프로그램 만들기"
      ],
      "metadata": {
        "id": "RCQ-lqXPMSkU"
      }
    },
    {
      "cell_type": "code",
      "source": [
        "year = input(\"태어난 해는\")"
      ],
      "metadata": {
        "colab": {
          "base_uri": "https://localhost:8080/"
        },
        "id": "18B2T60-MYhj",
        "outputId": "d0d39d44-4909-41e2-a325-8fc4885c03ac"
      },
      "execution_count": 2,
      "outputs": [
        {
          "name": "stdout",
          "output_type": "stream",
          "text": [
            "태어난 해는2001\n"
          ]
        }
      ]
    },
    {
      "cell_type": "code",
      "source": [
        "# 라이브러리 불러오기\n",
        "import datetime\n",
        "\n",
        "# 사용자 입력 얻기\n",
        "year = input(\"태어난 해는\")\n",
        "year = int(year)\n",
        "month = input(\"태어난 달은\")\n",
        "month = int(month)\n",
        "day = input(\"태어난 날은\")\n",
        "day = int(day)\n",
        "\n",
        "\n",
        "bday = datetime.datetime(year, month, day)\n",
        "\n"
      ],
      "metadata": {
        "id": "djc8F3l_M3hk"
      },
      "execution_count": 3,
      "outputs": []
    }
  ]
}